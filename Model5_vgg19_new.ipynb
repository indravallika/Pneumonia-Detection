{
  "nbformat": 4,
  "nbformat_minor": 0,
  "metadata": {
    "colab": {
      "provenance": [],
      "gpuType": "T4",
      "include_colab_link": true
    },
    "kernelspec": {
      "name": "python3",
      "display_name": "Python 3"
    },
    "language_info": {
      "name": "python"
    },
    "accelerator": "GPU"
  },
  "cells": [
    {
      "cell_type": "markdown",
      "metadata": {
        "id": "view-in-github",
        "colab_type": "text"
      },
      "source": [
        "<a href=\"https://colab.research.google.com/github/Sanskar6877/ChestXRay_Pneumonia_Detection/blob/main/Model5_vgg19_new.ipynb\" target=\"_parent\"><img src=\"https://colab.research.google.com/assets/colab-badge.svg\" alt=\"Open In Colab\"/></a>"
      ]
    },
    {
      "cell_type": "code",
      "execution_count": null,
      "metadata": {
        "id": "9b8cm8IO_O8M"
      },
      "outputs": [],
      "source": [
        "from keras.layers import Input, Lambda, Dense, Flatten\n",
        "from keras.models import Model, load_model\n",
        "from keras.applications.vgg19 import VGG19\n",
        "from keras.applications.vgg19 import preprocess_input\n",
        "from keras.preprocessing import image\n",
        "from keras.preprocessing.image import ImageDataGenerator\n",
        "from keras.models import Sequential\n",
        "import numpy as np\n",
        "from glob import glob\n",
        "import matplotlib.pyplot as plt"
      ]
    },
    {
      "cell_type": "code",
      "source": [
        "from google.colab import drive\n",
        "drive.mount('/content/drive')\n"
      ],
      "metadata": {
        "colab": {
          "base_uri": "https://localhost:8080/"
        },
        "id": "F8RrmZor_SsG",
        "outputId": "fb4d6699-0535-49aa-fef0-6330d7208e23"
      },
      "execution_count": null,
      "outputs": [
        {
          "output_type": "stream",
          "name": "stdout",
          "text": [
            "Mounted at /content/drive\n"
          ]
        }
      ]
    },
    {
      "cell_type": "code",
      "source": [
        "IMAGE_SIZE = [224, 224]\n",
        "train_path = '/content/drive/MyDrive/chest_xray/train'\n",
        "valid_path = '/content/drive/MyDrive/chest_xray/val'\n",
        "test_path = '/content/drive/MyDrive/chest_xray/test'"
      ],
      "metadata": {
        "id": "7VNBWK7U_Uis"
      },
      "execution_count": null,
      "outputs": []
    },
    {
      "cell_type": "code",
      "source": [
        "vgg = VGG19(input_shape=IMAGE_SIZE + [3], weights='imagenet', include_top=False)"
      ],
      "metadata": {
        "colab": {
          "base_uri": "https://localhost:8080/"
        },
        "id": "W6Q4Bv57_WDA",
        "outputId": "05eeb908-bcfd-45e2-91e0-b74a2eac19f2"
      },
      "execution_count": null,
      "outputs": [
        {
          "output_type": "stream",
          "name": "stdout",
          "text": [
            "Downloading data from https://storage.googleapis.com/tensorflow/keras-applications/vgg19/vgg19_weights_tf_dim_ordering_tf_kernels_notop.h5\n",
            "80134624/80134624 [==============================] - 2s 0us/step\n"
          ]
        }
      ]
    },
    {
      "cell_type": "code",
      "source": [
        "\n",
        "for layer in vgg.layers:\n",
        "    layer.trainable = False\n"
      ],
      "metadata": {
        "id": "OkhVvTU7_YcN"
      },
      "execution_count": null,
      "outputs": []
    },
    {
      "cell_type": "code",
      "source": [
        "folders = glob('/content/drive/MyDrive/chest_xray/train/*')"
      ],
      "metadata": {
        "id": "ikYU1Jge_aAj"
      },
      "execution_count": null,
      "outputs": []
    },
    {
      "cell_type": "code",
      "source": [
        "x = Flatten()(vgg.output)"
      ],
      "metadata": {
        "id": "GWAX3_Se_bXe"
      },
      "execution_count": null,
      "outputs": []
    },
    {
      "cell_type": "code",
      "source": [
        "prediction = Dense(len(folders), activation='softmax')(x)\n",
        "\n",
        "# creating a model object\n",
        "model = Model(inputs=vgg.input, outputs=prediction)"
      ],
      "metadata": {
        "id": "3viqWWJt_ctz"
      },
      "execution_count": null,
      "outputs": []
    },
    {
      "cell_type": "code",
      "source": [
        "model.summary()"
      ],
      "metadata": {
        "colab": {
          "base_uri": "https://localhost:8080/"
        },
        "id": "CBnoCjfM_eWh",
        "outputId": "a71754d1-c94a-4734-ba35-5e306b8bf312"
      },
      "execution_count": null,
      "outputs": [
        {
          "output_type": "stream",
          "name": "stdout",
          "text": [
            "Model: \"model\"\n",
            "_________________________________________________________________\n",
            " Layer (type)                Output Shape              Param #   \n",
            "=================================================================\n",
            " input_1 (InputLayer)        [(None, 224, 224, 3)]     0         \n",
            "                                                                 \n",
            " block1_conv1 (Conv2D)       (None, 224, 224, 64)      1792      \n",
            "                                                                 \n",
            " block1_conv2 (Conv2D)       (None, 224, 224, 64)      36928     \n",
            "                                                                 \n",
            " block1_pool (MaxPooling2D)  (None, 112, 112, 64)      0         \n",
            "                                                                 \n",
            " block2_conv1 (Conv2D)       (None, 112, 112, 128)     73856     \n",
            "                                                                 \n",
            " block2_conv2 (Conv2D)       (None, 112, 112, 128)     147584    \n",
            "                                                                 \n",
            " block2_pool (MaxPooling2D)  (None, 56, 56, 128)       0         \n",
            "                                                                 \n",
            " block3_conv1 (Conv2D)       (None, 56, 56, 256)       295168    \n",
            "                                                                 \n",
            " block3_conv2 (Conv2D)       (None, 56, 56, 256)       590080    \n",
            "                                                                 \n",
            " block3_conv3 (Conv2D)       (None, 56, 56, 256)       590080    \n",
            "                                                                 \n",
            " block3_conv4 (Conv2D)       (None, 56, 56, 256)       590080    \n",
            "                                                                 \n",
            " block3_pool (MaxPooling2D)  (None, 28, 28, 256)       0         \n",
            "                                                                 \n",
            " block4_conv1 (Conv2D)       (None, 28, 28, 512)       1180160   \n",
            "                                                                 \n",
            " block4_conv2 (Conv2D)       (None, 28, 28, 512)       2359808   \n",
            "                                                                 \n",
            " block4_conv3 (Conv2D)       (None, 28, 28, 512)       2359808   \n",
            "                                                                 \n",
            " block4_conv4 (Conv2D)       (None, 28, 28, 512)       2359808   \n",
            "                                                                 \n",
            " block4_pool (MaxPooling2D)  (None, 14, 14, 512)       0         \n",
            "                                                                 \n",
            " block5_conv1 (Conv2D)       (None, 14, 14, 512)       2359808   \n",
            "                                                                 \n",
            " block5_conv2 (Conv2D)       (None, 14, 14, 512)       2359808   \n",
            "                                                                 \n",
            " block5_conv3 (Conv2D)       (None, 14, 14, 512)       2359808   \n",
            "                                                                 \n",
            " block5_conv4 (Conv2D)       (None, 14, 14, 512)       2359808   \n",
            "                                                                 \n",
            " block5_pool (MaxPooling2D)  (None, 7, 7, 512)         0         \n",
            "                                                                 \n",
            " flatten (Flatten)           (None, 25088)             0         \n",
            "                                                                 \n",
            " dense (Dense)               (None, 2)                 50178     \n",
            "                                                                 \n",
            "=================================================================\n",
            "Total params: 20074562 (76.58 MB)\n",
            "Trainable params: 50178 (196.01 KB)\n",
            "Non-trainable params: 20024384 (76.39 MB)\n",
            "_________________________________________________________________\n"
          ]
        }
      ]
    },
    {
      "cell_type": "code",
      "source": [
        "model.compile(\n",
        "  loss='categorical_crossentropy',\n",
        "  optimizer='adam',\n",
        "  metrics=['accuracy']\n",
        ")"
      ],
      "metadata": {
        "id": "bms0gnX7_fy9"
      },
      "execution_count": null,
      "outputs": []
    },
    {
      "cell_type": "code",
      "source": [
        "from keras.preprocessing.image import ImageDataGenerator"
      ],
      "metadata": {
        "id": "kUtzngUx_hiP"
      },
      "execution_count": null,
      "outputs": []
    },
    {
      "cell_type": "code",
      "source": [
        "\n",
        "\n",
        "# Use the Image Data Generator to import the images from the dataset\n",
        "from keras.preprocessing.image import ImageDataGenerator\n",
        "\n",
        "train_datagen = ImageDataGenerator(rescale = 1./255,\n",
        "                                   shear_range = 0.2,\n",
        "                                   featurewise_center=False,  # set input mean to 0 over the dataset\n",
        "                                  samplewise_center=False,  # set each sample mean to 0\n",
        "                                 featurewise_std_normalization=False,  # divide inputs by std of the dataset\n",
        "                                 samplewise_std_normalization=False,  # divide each input by its std\n",
        "                                 zca_whitening=False,  # apply ZCA whitening\n",
        "                              rotation_range = 30,  # randomly rotate images in the range (degrees, 0 to 180)\n",
        "                             zoom_range = 0.2, # Randomly zoom image\n",
        "                            width_shift_range=0.1,  # randomly shift images horizontally (fraction of total width)\n",
        "                           height_shift_range=0.1,  # randomly shift images vertically (fraction of total height)\n",
        "                         horizontal_flip = True,  # randomly flip images\n",
        "                        vertical_flip=False)\n",
        "\n",
        "val_datagen = ImageDataGenerator(rescale = 1./255)\n",
        "test_datagen=ImageDataGenerator(rescale=1./255)\n",
        "\n",
        "# providing the same target size as initialied for the image size\n",
        "training_set = train_datagen.flow_from_directory('/content/drive/MyDrive/chest_xray/train',\n",
        "                                                 target_size = (224, 224),\n",
        "                                                 batch_size = 32,\n",
        "                                                 class_mode = 'categorical')\n",
        "\n",
        "\n",
        "\n",
        "val_set = val_datagen.flow_from_directory('/content/drive/MyDrive/chest_xray/val',\n",
        "                                            target_size = (224, 224),\n",
        "                                            batch_size = 32,\n",
        "                                            class_mode = 'categorical')\n",
        "\n",
        "test_set = test_datagen.flow_from_directory('/content/drive/MyDrive/chest_xray/test',\n",
        "                                            target_size = (224, 224),\n",
        "                                            batch_size = 32,\n",
        "                                            class_mode = 'categorical')\n",
        "\n"
      ],
      "metadata": {
        "colab": {
          "base_uri": "https://localhost:8080/"
        },
        "id": "tt-FOYxv_jDG",
        "outputId": "47b4c6b7-0671-41e1-954e-e39eda78516c"
      },
      "execution_count": null,
      "outputs": [
        {
          "output_type": "stream",
          "name": "stdout",
          "text": [
            "Found 5216 images belonging to 2 classes.\n",
            "Found 220 images belonging to 2 classes.\n",
            "Found 624 images belonging to 2 classes.\n"
          ]
        }
      ]
    },
    {
      "cell_type": "code",
      "source": [
        "# fiting the model\n",
        "\n",
        "r = model.fit(\n",
        "  training_set,\n",
        "  validation_data=test_set,\n",
        "  epochs=10,\n",
        "  steps_per_epoch=len(training_set),\n",
        "  validation_steps=len(test_set)\n",
        ")"
      ],
      "metadata": {
        "colab": {
          "base_uri": "https://localhost:8080/"
        },
        "id": "OOXKz11f_mr_",
        "outputId": "aaee9a92-4a57-45c0-b6df-c41944806189"
      },
      "execution_count": null,
      "outputs": [
        {
          "output_type": "stream",
          "name": "stdout",
          "text": [
            "Epoch 1/10\n",
            "163/163 [==============================] - 2413s 15s/step - loss: 0.2346 - accuracy: 0.9034 - val_loss: 0.2379 - val_accuracy: 0.9071\n",
            "Epoch 2/10\n",
            "163/163 [==============================] - 137s 839ms/step - loss: 0.1781 - accuracy: 0.9258 - val_loss: 0.2872 - val_accuracy: 0.9022\n",
            "Epoch 3/10\n",
            "163/163 [==============================] - 140s 861ms/step - loss: 0.1537 - accuracy: 0.9404 - val_loss: 0.2632 - val_accuracy: 0.9135\n",
            "Epoch 4/10\n",
            "163/163 [==============================] - 135s 827ms/step - loss: 0.1670 - accuracy: 0.9356 - val_loss: 0.2736 - val_accuracy: 0.9199\n",
            "Epoch 5/10\n",
            "163/163 [==============================] - 137s 842ms/step - loss: 0.1374 - accuracy: 0.9471 - val_loss: 0.2601 - val_accuracy: 0.9221\n",
            "Epoch 6/10\n",
            "163/163 [==============================] - 135s 826ms/step - loss: 0.1488 - accuracy: 0.9452 - val_loss: 0.3394 - val_accuracy: 0.8894\n",
            "Epoch 7/10\n",
            "163/163 [==============================] - 135s 826ms/step - loss: 0.1399 - accuracy: 0.9486 - val_loss: 0.2978 - val_accuracy: 0.9135\n",
            "Epoch 8/10\n",
            "163/163 [==============================] - 135s 826ms/step - loss: 0.1254 - accuracy: 0.9542 - val_loss: 0.2714 - val_accuracy: 0.9215\n",
            "Epoch 9/10\n",
            "163/163 [==============================] - 139s 854ms/step - loss: 0.1105 - accuracy: 0.9553 - val_loss: 0.2720 - val_accuracy: 0.9199\n",
            "Epoch 10/10\n",
            "163/163 [==============================] - 135s 827ms/step - loss: 0.1025 - accuracy: 0.9597 - val_loss: 0.2777 - val_accuracy: 0.9231\n"
          ]
        }
      ]
    },
    {
      "cell_type": "code",
      "source": [
        "test_loss, test_acc = model.evaluate(test_set, verbose=2)\n",
        "print('Test accuracy:', test_acc)\n",
        "print('Test loss:',test_loss)"
      ],
      "metadata": {
        "id": "7CCvhQR_yncU",
        "colab": {
          "base_uri": "https://localhost:8080/"
        },
        "outputId": "a2a81fc3-e3a6-41e5-86a4-43058ed79823"
      },
      "execution_count": null,
      "outputs": [
        {
          "output_type": "stream",
          "name": "stdout",
          "text": [
            "20/20 - 7s - loss: 0.2777 - accuracy: 0.9231 - 7s/epoch - 353ms/step\n",
            "Test accuracy: 0.9230769276618958\n",
            "Test loss: 0.2776893377304077\n"
          ]
        }
      ]
    },
    {
      "cell_type": "code",
      "source": [
        "# Plot training and validation loss\n",
        "plt.plot(r.history['loss'], label='Training Loss')\n",
        "plt.plot(r.history['val_loss'], label='Validation Loss')\n",
        "plt.xlabel('Epochs')\n",
        "plt.ylabel('Loss')\n",
        "plt.legend()\n",
        "plt.title('Training and Validation Loss')\n",
        "plt.show()\n"
      ],
      "metadata": {
        "id": "3y6YjI2RJo2j",
        "outputId": "485862cf-06c7-43e9-dab3-e0d85d29288d",
        "colab": {
          "base_uri": "https://localhost:8080/",
          "height": 472
        }
      },
      "execution_count": null,
      "outputs": [
        {
          "output_type": "display_data",
          "data": {
            "text/plain": [
              "<Figure size 640x480 with 1 Axes>"
            ],
            "image/png": "[encoded data removed]"
          },
          "metadata": {}
        }
      ]
    },
    {
      "cell_type": "code",
      "source": [
        "from sklearn.metrics import classification_report,precision_score, recall_score, f1_score\n",
        "\n",
        "# Predict probabilities for the test set\n",
        "y_pred_probs = model.predict(test_set)\n",
        "# Convert probabilities to class labels\n",
        "y_pred_labels = (y_pred_probs > 0.5).astype(int)\n",
        "\n",
        "# Get true labels for the test set\n",
        "true_labels = test_set.labels\n",
        "precision = precision_score(true_labels, y_pred_labels)\n",
        "recall = recall_score(true_labels, y_pred_labels)\n",
        "f1 = f1_score(true_labels, y_pred_labels)\n",
        "\n",
        "# Print precision, recall, and F1-score\n",
        "print(\"Precision of the model is - \", precision)\n",
        "print(\"Recall of the model is - \", recall)\n",
        "print(\"F1-score of the model is - \", f1)\n"
      ],
      "metadata": {
        "id": "LFKRvNwuj_L_",
        "outputId": "1839fa67-d924-4467-8d6d-ffcf3caf4ba5",
        "colab": {
          "base_uri": "https://localhost:8080/"
        }
      },
      "execution_count": null,
      "outputs": [
        {
          "output_type": "stream",
          "name": "stdout",
          "text": [
            "Precision of the model is -  0.93248\n",
            "Recall of the model is -  0.91556\n",
            "F1-score of the model is -  0.90644\n"
          ]
        }
      ]
    }
  ]
}